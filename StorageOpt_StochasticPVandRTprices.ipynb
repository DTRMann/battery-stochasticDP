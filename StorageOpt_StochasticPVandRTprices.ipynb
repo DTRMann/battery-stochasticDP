{
 "cells": [
  {
   "cell_type": "code",
   "execution_count": 1,
   "metadata": {},
   "outputs": [],
   "source": [
    "### Script computes the optimal battery dispatch given uncertain PV production and real-time prices using dynamic programming.\n",
    "### Method is generalizable to different random states. \n",
    "### For larger problems, the approach could be optimized by parallelizing or vectorizing across all SOC states for each timestep."
   ]
  },
  {
   "cell_type": "code",
   "execution_count": 2,
   "metadata": {},
   "outputs": [],
   "source": [
    "import pandas as pd\n",
    "import numpy as np\n",
    "import os\n",
    "import math\n",
    "import itertools\n",
    "import matplotlib.pyplot as plt"
   ]
  },
  {
   "cell_type": "code",
   "execution_count": 3,
   "metadata": {},
   "outputs": [],
   "source": [
    "### Define wd and file names for reading\n",
    "wd = 'C:\\\\Users\\\\DTRManning\\\\Desktop\\\\IndependentProjects\\\\LearningDP\\\\BatteryControl'\n",
    "\n",
    "priceFname = 'RealTimePrice.csv'\n",
    "pvFname    = 'PV_ProductionData_24hour.csv'"
   ]
  },
  {
   "cell_type": "code",
   "execution_count": 4,
   "metadata": {},
   "outputs": [],
   "source": [
    "### Combine into absolute file paths\n",
    "priceFpath = os.path.join( wd, priceFname )\n",
    "pvFpath    = os.path.join( wd, pvFname )"
   ]
  },
  {
   "cell_type": "code",
   "execution_count": 5,
   "metadata": {},
   "outputs": [],
   "source": [
    "### PV production is uncertain and described by different possible states\n",
    "### Battery can only charge off PV production\n",
    "### Real time price is also uncertain and described by two states for each interval.\n",
    "### Settlement is Price * (PV - Charge + Discharge)"
   ]
  },
  {
   "cell_type": "code",
   "execution_count": 6,
   "metadata": {},
   "outputs": [],
   "source": [
    "### Define battery parameters\n",
    "maxEnergy = 5\n",
    "minEnergy = 1\n",
    "\n",
    "maxCharge    = 2\n",
    "maxDischarge = 2\n",
    "\n",
    "# Size of the transition step to discretize SOC states\n",
    "transitionInterval = .25"
   ]
  },
  {
   "cell_type": "code",
   "execution_count": 7,
   "metadata": {},
   "outputs": [],
   "source": [
    "### Read in price and PV production data.\n",
    "priceData = pd.read_csv(priceFpath)\n",
    "pvData    = pd.read_csv(pvFpath)"
   ]
  },
  {
   "cell_type": "code",
   "execution_count": 8,
   "metadata": {},
   "outputs": [],
   "source": [
    "# pad an additional interval with zeros for last period of DP.\n",
    "# df = df.append(pd.Series(0, index=df.columns), ignore_index=True)\n",
    "pvData    = pvData.append( pd.Series(0, index = pvData.columns), ignore_index = True )\n",
    "priceData = priceData.append( pd.Series(0, index = priceData.columns), ignore_index = True )"
   ]
  },
  {
   "cell_type": "code",
   "execution_count": 9,
   "metadata": {},
   "outputs": [],
   "source": [
    "# Slicing examples because I always get confused between python and R.\n",
    "#pvData[pvData['Time']==0]\n",
    "#pvData.loc[0,'0.2']"
   ]
  },
  {
   "cell_type": "code",
   "execution_count": 10,
   "metadata": {},
   "outputs": [],
   "source": [
    "### Convert PV and price data to long format, where each column has time, probability, and value\n",
    "# For PV: selectKeys = ['PVLow','PVMid','PVHigh']; valueName = 'PVProduction_MW'\n",
    "# For prices: selectKeys = ['Pos','Neg']; valueName = 'RealTimePrice'\n",
    "\n",
    "def InputsWideToLong(wideDF,selectKeys,valueName):\n",
    "    \n",
    "    collectDFs = list() # Empty list for collecting subset dataframes\n",
    "\n",
    "    for selectKey in selectKeys:\n",
    "\n",
    "        selectCols = [col for col in wideDF if col.startswith(selectKey) or col == 'Time']\n",
    "\n",
    "        ### Standardize column naming convention.\n",
    "        curDF = wideDF[selectCols]\n",
    "        curDF = curDF.assign(Scenario = selectKey)\n",
    "        # Rename probability column to \"Prob\"\n",
    "        curDF = curDF.rename(lambda x: 'Prob' if 'PROB' in x.upper() else x, axis=1)\n",
    "        # Rename column to standardize naming convention across groups\n",
    "        curDF = curDF.rename(columns ={ selectKey: valueName } )\n",
    "\n",
    "        ### Collect in list\n",
    "        collectDFs.append(curDF)\n",
    "\n",
    "    ### Concatenate into a single dataframe.\n",
    "    newDF = pd.concat(collectDFs)\n",
    "    newDF = newDF[newDF['Prob'] > 0] # Only include probabilities greater than zero for parsimony\n",
    "    # Round probabilities to 4 digits of precision\n",
    "    newDF.Prob = newDF.Prob.round(4)\n",
    "\n",
    "    \n",
    "    return(newDF)"
   ]
  },
  {
   "cell_type": "code",
   "execution_count": 11,
   "metadata": {},
   "outputs": [],
   "source": [
    "### For each timestep, create a dataframe that calculates the joint probability of permutations of different price and PV levels. Returns as dataframe. \n",
    "def GetJointProbabilities( pvData, priceData, timeStep ):\n",
    "    \n",
    "    # Prep price data for join\n",
    "    curPVdata = pvData[pvData['Time']==timeStep]\n",
    "    curPVdata = curPVdata.rename({'Prob':'PV_Prob'}, axis = 1)\n",
    "    curPVdata['key'] = 0\n",
    "    curPVdata = curPVdata.drop('Scenario', axis = 1)\n",
    "\n",
    "    # Prep PV production data for join\n",
    "    curPricedata = priceData[priceData['Time']==timeStep]\n",
    "    curPricedata = curPricedata.rename({'Prob':'Price_Prob'}, axis = 1)\n",
    "    curPricedata['key'] = 0\n",
    "    curPricedata = curPricedata.drop('Scenario', axis = 1)\n",
    "    curPricedata\n",
    "\n",
    "    ### Build all scenarios for current timestep by combining all permutations and collect into rows of combined dataframe\n",
    "    combinedData = curPVdata.merge(curPricedata, on = ['Time','key'])\n",
    "    # Remove extraneous key and calculate join probabilities\n",
    "    combinedData['Joint_Prob'] = combinedData['PV_Prob'] * combinedData['Price_Prob']\n",
    "    combinedData               = combinedData.drop('key',axis=1)\n",
    "\n",
    "    return(combinedData)"
   ]
  },
  {
   "cell_type": "code",
   "execution_count": 12,
   "metadata": {},
   "outputs": [],
   "source": [
    "### Create a dictionary where the key is the timestep and each value is a dataframe with the joint PV production and price probabilities. \n",
    "def CollectJointProbsByT(pvData, priceData):\n",
    "    \n",
    "    # Calculate the joint probabilities for each timestep. Filter down to only the common timesteps\n",
    "    sharedTimeSteps = np.intersect1d( pvData['Time'].unique(), priceData['Time'].unique() )\n",
    "    # Create dictionary for collecting probabilities at each timestep\n",
    "    AllTimeSteps = {}\n",
    "    # Collect joint probabilities for all time steps\n",
    "    for timeStep in sharedTimeSteps:\n",
    "        AllTimeSteps[timeStep] = GetJointProbabilities( pvData, priceData, timeStep )\n",
    "\n",
    "    return (AllTimeSteps)"
   ]
  },
  {
   "cell_type": "code",
   "execution_count": 13,
   "metadata": {},
   "outputs": [],
   "source": [
    "def DiscretizeSOC( minEnergy, maxEnergy, transitionInterval ):\n",
    "    \n",
    "    ### Disretize battery SOC into intervals based on the transition interval size.\n",
    "    socStates = np.arange(minEnergy, maxEnergy + transitionInterval, transitionInterval) # Add transition interval to include max SOC in states\n",
    "\n",
    "    ### Create a transition matrix with the accessible states at each SOC. Structure as dictionary of transition vectors for \n",
    "    ### fast lookup.\n",
    "    TransitionVectors = {}\n",
    "\n",
    "    for curState in socStates:\n",
    "\n",
    "        # For each state, calculate the distances to see which states are accessible. Battery SOC can't decrease more than \n",
    "        # maxDischarge or increase more than maxCharge.\n",
    "        availableStates = pd.DataFrame( {'AllStates': socStates} )\n",
    "        availableStates['distance'] = availableStates['AllStates'] - curState\n",
    "        availableStates = availableStates[(availableStates['distance'] >= -maxDischarge) & (availableStates['distance'] <= maxCharge)]\n",
    "        availableStates = availableStates['AllStates'].tolist() # Convert to list for easier looping\n",
    "\n",
    "        TransitionVectors[curState] = availableStates\n",
    "        \n",
    "    return(socStates, TransitionVectors)"
   ]
  },
  {
   "cell_type": "code",
   "execution_count": 14,
   "metadata": {},
   "outputs": [],
   "source": [
    "### Create a dataframe where columns indicate time step and rows indicate state.\n",
    "### Reduce the available states for battery ramp up at the beginning of the horizon. Max available charge at each timestep\n",
    "### is timestep * MaxCharge + minSOC\n",
    "###     timestep: array of unique timesteps\n",
    "def CreateAvailableStates( timesteps, socStates ):\n",
    "    \n",
    "    # Dataframes for determining optimal decisions and storing optimal results.\n",
    "\n",
    "    batteryBackwardsPass = pd.DataFrame( 0, index = socStates, columns = timesteps ) # Tracks optimal value\n",
    "    optimalPath          = pd.DataFrame( 0, index = socStates, columns = timesteps ) # Tracks optimal decision\n",
    "    \n",
    "    # Reduce available states at the beginning of the horizon to require starting SOC = min SOC\n",
    "    for curTimestep in list(batteryBackwardsPass.columns):\n",
    "    \n",
    "        curMaxSOC = min( (curTimestep * maxCharge) + minEnergy, maxEnergy )\n",
    "\n",
    "        for curSOC in socStates:\n",
    "            if curSOC > curMaxSOC:\n",
    "                batteryBackwardsPass.loc[curSOC,curTimestep] = math.nan\n",
    "                \n",
    "    return(batteryBackwardsPass,optimalPath)"
   ]
  },
  {
   "cell_type": "code",
   "execution_count": 15,
   "metadata": {},
   "outputs": [],
   "source": [
    "# Defines the start and end time for DP optimization for backwards pass. Considers python indexing and range functionality.\n",
    "#   horizon: array of the time horizon. \n",
    "def GetHorizonInfo(horizon):\n",
    "    \n",
    "    HorizonInfo = {}\n",
    "    dataLength = len(horizon)\n",
    "    HorizonInfo['horizonEnd']   = dataLength - 2 # Subtract one for the last timestep in horizon, one for python indexing\n",
    "    HorizonInfo['horizonStart'] = 0 - 1 # End on timestep 0, subract one for python indexing\n",
    "    \n",
    "    return(HorizonInfo)"
   ]
  },
  {
   "cell_type": "code",
   "execution_count": 16,
   "metadata": {},
   "outputs": [],
   "source": [
    "def JointProbabilityOpt( t, curSOC, curTimeStep, TransitionVectors, batteryBackwardsPass, optimalPath ):\n",
    "    \n",
    "    # List for collecting current results for t\n",
    "    ResultsForT = []\n",
    "\n",
    "    # New approach will iterate through rows of joint probability\n",
    "    for index, curScenario in curTimeStep.iterrows():\n",
    "        \n",
    "        # Define variables for iteration\n",
    "        curPVProd = curScenario['PVProduction_MW']\n",
    "        nextSOC = np.array(TransitionVectors[curSOC]) # Use numpy array for faster/easier matrix operations\n",
    "        curPrice = curScenario['RealTimePrice']\n",
    "\n",
    "        ### Calculate the cost/value of the discharge by multiplying possible transitions by the current price\n",
    "        transitions      = nextSOC - curSOC # Potential transitions. Positive implies charge, negative implies discharge\n",
    "        transitions      = transitions[transitions <= curPVProd] # Can only charge from PV\n",
    "        transitionValues = transitions * curPrice\n",
    "        # Combine the values of each transition with the cost associated with the next state.\n",
    "        totalValues      = np.array(transitionValues + batteryBackwardsPass[t+1][curSOC + transitions])\n",
    "\n",
    "        ### Get index of lowest cost/highest value transition\n",
    "        minCostIndex    = np.argmin(totalValues)\n",
    "        optimalDecision = transitions[minCostIndex]  # Get the optimal decision\n",
    "        # Get the cost of the optimal decision. Add to cost of previous timestep SOC.\n",
    "        minCost         = totalValues[minCostIndex]\n",
    "\n",
    "        # Get optimal decision and cost for scenario and append to list with results for current t\n",
    "        curScenario['OptimalDispatch'] = optimalDecision\n",
    "        curScenario['MinimumCost']     = minCost\n",
    "\n",
    "        ResultsForT.append(curScenario)\n",
    "\n",
    "    # Get results and track in optimal dispatch matrices\n",
    "    CurTResults = pd.DataFrame(ResultsForT)\n",
    "\n",
    "    batteryBackwardsPass.loc[ curSOC, t ] = round((CurTResults['MinimumCost']*CurTResults['Joint_Prob']).mean(), 4) # Expected minimum cost for current SOC and timestep\n",
    "    optimalPath.loc[ curSOC, t ]          = round((CurTResults['OptimalDispatch']*CurTResults['Joint_Prob']).mean(), 4) # Expected minimum cost for current SOC and timestep\n",
    "\n",
    "    return(batteryBackwardsPass, optimalPath)"
   ]
  },
  {
   "cell_type": "code",
   "execution_count": 17,
   "metadata": {},
   "outputs": [],
   "source": [
    "### Iterate through each row in each column. For each entry, indicate the lowest cost way of reaching that battery state\n",
    "### Battery can only charge off of PV, so the available transitions depend on PV output\n",
    "# For each iteration for each PV probability, multiply minCost and optimalDecision by the probability to get expected value.\n",
    "# These values can be summed to get average values for each timestep.\n",
    "def BackwardsPassStochOpt( batteryBackwardsPass, optimalPath, socStates, TransitionVectors, JointProbsByTime, HorizonInfo ):\n",
    "    \n",
    "    for t in range(HorizonInfo['horizonEnd'],HorizonInfo['horizonStart'],-1):\n",
    "\n",
    "        for curSOC in socStates:\n",
    "\n",
    "            if math.isnan(batteryBackwardsPass.loc[ curSOC, t ] ):\n",
    "                continue\n",
    "        \n",
    "            curTimeStep = JointProbsByTime[t]\n",
    "\n",
    "            batteryBackwardsPass, optimalPath = JointProbabilityOpt( t, curSOC, curTimeStep, TransitionVectors, batteryBackwardsPass, optimalPath )\n",
    "            \n",
    "    return( batteryBackwardsPass, optimalPath )"
   ]
  },
  {
   "cell_type": "code",
   "execution_count": 18,
   "metadata": {},
   "outputs": [],
   "source": [
    "### Convert data to generalized format\n",
    "priceData = InputsWideToLong(priceData,['Pos','Neg'],'RealTimePrice')\n",
    "pvData = InputsWideToLong(pvData,['PVLow','PVMid','PVHigh'],'PVProduction_MW')"
   ]
  },
  {
   "cell_type": "code",
   "execution_count": 19,
   "metadata": {},
   "outputs": [],
   "source": [
    "# Get all joint probabilities\n",
    "JointProbsByTime = CollectJointProbsByT(pvData, priceData)"
   ]
  },
  {
   "cell_type": "code",
   "execution_count": 20,
   "metadata": {},
   "outputs": [],
   "source": [
    "### Run optimization\n",
    "socStates, TransitionVectors = DiscretizeSOC( minEnergy, maxEnergy, transitionInterval )\n",
    "batteryBackwardsPass,optimalPath = CreateAvailableStates( JointProbsByTime.keys(), socStates )\n",
    "HorizonInfo = GetHorizonInfo(JointProbsByTime.keys())\n",
    "batteryBackwardsPass, optimalPath = BackwardsPassStochOpt( batteryBackwardsPass, optimalPath, socStates, TransitionVectors, JointProbsByTime, HorizonInfo )\n",
    "# Note that the stochastic problem, each optimal step is taken sequentially, so there is no prima facie optimal path through\n",
    "# the horizon, only the expected optimal steps (optimalPath) and marginal value (batteryBackwardsPass)"
   ]
  },
  {
   "cell_type": "code",
   "execution_count": 21,
   "metadata": {},
   "outputs": [],
   "source": [
    "### Return results"
   ]
  },
  {
   "cell_type": "code",
   "execution_count": 22,
   "metadata": {},
   "outputs": [
    {
     "data": {
      "image/png": "[encoded data removed]",
      "text/plain": [
       "<Figure size 406.588x288 with 2 Axes>"
      ]
     },
     "metadata": {
      "needs_background": "light"
     },
     "output_type": "display_data"
    }
   ],
   "source": [
    "# Visualize optimal value dispatch in each hour.\n",
    "plt.matshow(batteryBackwardsPass)\n",
    "plt.gca().set_yticks(range(len(batteryBackwardsPass.index)))\n",
    "plt.gca().set_yticklabels(batteryBackwardsPass.index)\n",
    "plt.colorbar()\n",
    "plt.show()"
   ]
  },
  {
   "cell_type": "code",
   "execution_count": 23,
   "metadata": {},
   "outputs": [
    {
     "data": {
      "image/png": "[encoded data removed]",
      "text/plain": [
       "<Figure size 406.588x288 with 2 Axes>"
      ]
     },
     "metadata": {
      "needs_background": "light"
     },
     "output_type": "display_data"
    }
   ],
   "source": [
    "# Visualize optimal expected dispatch in each hour.\n",
    "plt.matshow(optimalPath)\n",
    "plt.gca().set_yticks(range(len(optimalPath.index)))\n",
    "plt.gca().set_yticklabels(optimalPath.index)\n",
    "plt.colorbar()\n",
    "plt.show()"
   ]
  }
 ],
 "metadata": {
  "kernelspec": {
   "display_name": "Python 3.7.4 ('base')",
   "language": "python",
   "name": "python3"
  },
  "language_info": {
   "codemirror_mode": {
    "name": "ipython",
    "version": 3
   },
   "file_extension": ".py",
   "mimetype": "text/x-python",
   "name": "python",
   "nbconvert_exporter": "python",
   "pygments_lexer": "ipython3",
   "version": "3.7.4"
  },
  "vscode": {
   "interpreter": {
    "hash": "91c03cd694711eec07f1b4733263d5bd8d7ab006a5b7283b2434af8fc0ececaa"
   }
  }
 },
 "nbformat": 4,
 "nbformat_minor": 2
}
