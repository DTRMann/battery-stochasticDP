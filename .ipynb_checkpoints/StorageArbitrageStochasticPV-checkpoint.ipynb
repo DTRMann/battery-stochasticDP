{
 "cells": [
  {
   "cell_type": "code",
   "execution_count": 1,
   "metadata": {},
   "outputs": [],
   "source": [
    "import pandas as pd\n",
    "import numpy as np\n",
    "import os\n",
    "import math"
   ]
  },
  {
   "cell_type": "code",
   "execution_count": 2,
   "metadata": {},
   "outputs": [],
   "source": [
    "### Define wd and file names for reading\n",
    "wd = 'C:\\\\Users\\\\DTRManning\\\\Desktop\\\\IndependentProjects\\\\LearningDP\\\\BatteryControl'\n",
    "#fname = 'PriceData.csv'\n",
    "fname = 'PriceData_SmallTest.csv'\n",
    "pvFname = 'PV_ProductionData.csv'"
   ]
  },
  {
   "cell_type": "code",
   "execution_count": 3,
   "metadata": {},
   "outputs": [],
   "source": [
    "### Combine into absolute file paths\n",
    "fpath   = os.path.join( wd, fname )\n",
    "pvFpath = os.path.join( wd, pvFname )"
   ]
  },
  {
   "cell_type": "code",
   "execution_count": 4,
   "metadata": {},
   "outputs": [],
   "source": [
    "### Reference: http://web.mit.edu/15.053/www/AMP-Chapter-11.pdf"
   ]
  },
  {
   "cell_type": "code",
   "execution_count": 5,
   "metadata": {},
   "outputs": [],
   "source": [
    "### PV production is uncertain and described by different possible states\n",
    "### Battery can only charge off PV production\n",
    "### Settlement is Price * (PV - Charge + Discharge)"
   ]
  },
  {
   "cell_type": "code",
   "execution_count": 6,
   "metadata": {},
   "outputs": [],
   "source": [
    "### Define battery parameters\n",
    "maxEnergy = 5\n",
    "minEnergy = 1\n",
    "\n",
    "maxCharge    = 2\n",
    "maxDischarge = 2\n",
    "\n",
    "# Size of the transition step to discretize SOC states\n",
    "transitionInterval = 1"
   ]
  },
  {
   "cell_type": "code",
   "execution_count": 7,
   "metadata": {},
   "outputs": [],
   "source": [
    "### Read in price data. Note the current implementation doesn't automatically add a final period, so this has to be done\n",
    "### manually in the price file.\n",
    "priceData = pd.read_csv(fpath)\n",
    "pvData    = pd.read_csv(pvFpath)"
   ]
  },
  {
   "cell_type": "code",
   "execution_count": 8,
   "metadata": {},
   "outputs": [
    {
     "data": {
      "text/html": [
       "<div>\n",
       "<style scoped>\n",
       "    .dataframe tbody tr th:only-of-type {\n",
       "        vertical-align: middle;\n",
       "    }\n",
       "\n",
       "    .dataframe tbody tr th {\n",
       "        vertical-align: top;\n",
       "    }\n",
       "\n",
       "    .dataframe thead th {\n",
       "        text-align: right;\n",
       "    }\n",
       "</style>\n",
       "<table border=\"1\" class=\"dataframe\">\n",
       "  <thead>\n",
       "    <tr style=\"text-align: right;\">\n",
       "      <th></th>\n",
       "      <th>Time</th>\n",
       "      <th>0.2</th>\n",
       "      <th>0.5</th>\n",
       "      <th>0.3</th>\n",
       "    </tr>\n",
       "  </thead>\n",
       "  <tbody>\n",
       "    <tr>\n",
       "      <td>0</td>\n",
       "      <td>0</td>\n",
       "      <td>0</td>\n",
       "      <td>0</td>\n",
       "      <td>1</td>\n",
       "    </tr>\n",
       "    <tr>\n",
       "      <td>1</td>\n",
       "      <td>1</td>\n",
       "      <td>0</td>\n",
       "      <td>2</td>\n",
       "      <td>1</td>\n",
       "    </tr>\n",
       "    <tr>\n",
       "      <td>2</td>\n",
       "      <td>2</td>\n",
       "      <td>0</td>\n",
       "      <td>1</td>\n",
       "      <td>2</td>\n",
       "    </tr>\n",
       "    <tr>\n",
       "      <td>3</td>\n",
       "      <td>3</td>\n",
       "      <td>0</td>\n",
       "      <td>1</td>\n",
       "      <td>2</td>\n",
       "    </tr>\n",
       "    <tr>\n",
       "      <td>4</td>\n",
       "      <td>4</td>\n",
       "      <td>0</td>\n",
       "      <td>0</td>\n",
       "      <td>0</td>\n",
       "    </tr>\n",
       "  </tbody>\n",
       "</table>\n",
       "</div>"
      ],
      "text/plain": [
       "   Time  0.2  0.5  0.3\n",
       "0     0    0    0    1\n",
       "1     1    0    2    1\n",
       "2     2    0    1    2\n",
       "3     3    0    1    2\n",
       "4     4    0    0    0"
      ]
     },
     "execution_count": 8,
     "metadata": {},
     "output_type": "execute_result"
    }
   ],
   "source": [
    "pvData"
   ]
  },
  {
   "cell_type": "code",
   "execution_count": 9,
   "metadata": {},
   "outputs": [
    {
     "data": {
      "text/html": [
       "<div>\n",
       "<style scoped>\n",
       "    .dataframe tbody tr th:only-of-type {\n",
       "        vertical-align: middle;\n",
       "    }\n",
       "\n",
       "    .dataframe tbody tr th {\n",
       "        vertical-align: top;\n",
       "    }\n",
       "\n",
       "    .dataframe thead th {\n",
       "        text-align: right;\n",
       "    }\n",
       "</style>\n",
       "<table border=\"1\" class=\"dataframe\">\n",
       "  <thead>\n",
       "    <tr style=\"text-align: right;\">\n",
       "      <th></th>\n",
       "      <th>Time</th>\n",
       "      <th>elec_costs</th>\n",
       "    </tr>\n",
       "  </thead>\n",
       "  <tbody>\n",
       "    <tr>\n",
       "      <td>0</td>\n",
       "      <td>0</td>\n",
       "      <td>1</td>\n",
       "    </tr>\n",
       "    <tr>\n",
       "      <td>1</td>\n",
       "      <td>1</td>\n",
       "      <td>100</td>\n",
       "    </tr>\n",
       "    <tr>\n",
       "      <td>2</td>\n",
       "      <td>2</td>\n",
       "      <td>1000</td>\n",
       "    </tr>\n",
       "    <tr>\n",
       "      <td>3</td>\n",
       "      <td>3</td>\n",
       "      <td>10000</td>\n",
       "    </tr>\n",
       "    <tr>\n",
       "      <td>4</td>\n",
       "      <td>4</td>\n",
       "      <td>0</td>\n",
       "    </tr>\n",
       "  </tbody>\n",
       "</table>\n",
       "</div>"
      ],
      "text/plain": [
       "   Time  elec_costs\n",
       "0     0           1\n",
       "1     1         100\n",
       "2     2        1000\n",
       "3     3       10000\n",
       "4     4           0"
      ]
     },
     "execution_count": 9,
     "metadata": {},
     "output_type": "execute_result"
    }
   ],
   "source": [
    "priceData"
   ]
  },
  {
   "cell_type": "code",
   "execution_count": 10,
   "metadata": {},
   "outputs": [],
   "source": [
    "# Slicing examples because I always get confused between python and R.\n",
    "#pvData[pvData['Time']==0]\n",
    "#pvData.loc[0,'0.2']"
   ]
  },
  {
   "cell_type": "code",
   "execution_count": 11,
   "metadata": {},
   "outputs": [],
   "source": [
    "# Define dictionary with probabilities at each timestep.\n",
    "# ***Need to fix using a dictionary for this. Current approach does not accommodate multiple production values with\n",
    "# the same probability ***\n",
    "PVProductionProbs = {}\n",
    "\n",
    "for t in pvData['Time']:\n",
    "    \n",
    "    curRow = pvData[pvData['Time'] == t]\n",
    "    PVProductionProbs[t] = {}\n",
    "    \n",
    "    for col in pvData.columns[pvData.columns != 'Time']:\n",
    "        PVProductionProbs[t][col] = curRow[col].values[0]"
   ]
  },
  {
   "cell_type": "code",
   "execution_count": 12,
   "metadata": {},
   "outputs": [
    {
     "data": {
      "text/plain": [
       "{0: {'0.2': 0, '0.5': 0, '0.3': 1},\n",
       " 1: {'0.2': 0, '0.5': 2, '0.3': 1},\n",
       " 2: {'0.2': 0, '0.5': 1, '0.3': 2},\n",
       " 3: {'0.2': 0, '0.5': 1, '0.3': 2},\n",
       " 4: {'0.2': 0, '0.5': 0, '0.3': 0}}"
      ]
     },
     "execution_count": 12,
     "metadata": {},
     "output_type": "execute_result"
    }
   ],
   "source": [
    "PVProductionProbs"
   ]
  },
  {
   "cell_type": "code",
   "execution_count": 49,
   "metadata": {},
   "outputs": [
    {
     "name": "stdout",
     "output_type": "stream",
     "text": [
      "3\n",
      "2\n",
      "1\n",
      "0\n"
     ]
    }
   ],
   "source": [
    "### Battery can only charge off of PV.\n",
    "### Will need to loop through all of the below steps because the available transitions depend on PV output\n",
    "\n",
    "for t in range(HorizonInfo['horizonEnd'],HorizonInfo['horizonStart'],-1):\n",
    "    print(t)\n",
    "    curRow = pvData[pvData['Time'] == t]\n",
    "\n",
    "    for curSOC in socStates:\n",
    "\n",
    "        if math.isnan(batteryBackwardsPass.loc[ curSOC, t ] ):\n",
    "            continue\n",
    "\n",
    "        # For collecting each iteration's expected minCost and optimalDecision\n",
    "        expectedMinCost         = []\n",
    "        expectedOptimalDecision = []\n",
    "\n",
    "        for pvProb in curRow.columns[curRow.columns != 'Time']:\n",
    "            \n",
    "            curPVProd = PVProductionProbs[t][pvProb]\n",
    "\n",
    "            nextSOC = np.array(TransitionVectors[curSOC]) # Use numpy array for faster/easier matrix operations\n",
    "\n",
    "            curPrice = priceData[priceData['Time'] == t].iloc[0]['elec_costs']\n",
    "\n",
    "            ### Calculate the cost/value of the discharge by multiplying possible transitions by the current price\n",
    "            transitions      = nextSOC - curSOC # Potential transitions. Positive implies charge, negative implies discharge\n",
    "            transitions      = transitions[transitions <= curPVProd]\n",
    "            transitionValues = transitions * curPrice\n",
    "            # Combine the values of each transition with the cost associated with the next state.\n",
    "            totalValues      = np.array(transitionValues + batteryBackwardsPass[t+1][curSOC + transitions])\n",
    "\n",
    "            ### Get index of lowest cost/highest value transition\n",
    "            minCostIndex    = np.argmin(totalValues)\n",
    "            optimalDecision = transitions[minCostIndex]      # Get the optimal decision\n",
    "            # Get the cost of the optimal decision. Add to cost of previous timestep SOC.\n",
    "            minCost         = totalValues[minCostIndex]\n",
    "\n",
    "            # For each iteration for each PV probability, multiply minCost and optimalDecision by the probability to get expected value.\n",
    "            # These values can be summed to get average values for each timestep.\n",
    "            expectedMinCost.append(minCost*float(pvProb))\n",
    "            expectedOptimalDecision.append(optimalDecision*float(pvProb))\n",
    "\n",
    "        ### Insert optimal values into backwards pass results. Add probability-weighted values.\n",
    "        batteryBackwardsPass.loc[ curSOC, t ] = sum(expectedMinCost)\n",
    "        optimalPath.loc[ curSOC, t ]          = sum(expectedOptimalDecision)"
   ]
  },
  {
   "cell_type": "code",
   "execution_count": 13,
   "metadata": {},
   "outputs": [],
   "source": [
    "def DiscretizeSOC( minEnergy, maxEnergy, transitionInterval ):\n",
    "    \n",
    "    ### Disretize battery SOC into intervals based on the transition interval size.\n",
    "    socStates = np.arange(minEnergy, maxEnergy + transitionInterval, transitionInterval) # Add transition interval to include max SOC in states\n",
    "\n",
    "    ### Create a transition matrix with the accessible states at each SOC. Structure as dictionary of transition vectors for \n",
    "    ### fast lookup.\n",
    "    TransitionVectors = {}\n",
    "\n",
    "    for curState in socStates:\n",
    "\n",
    "        # For each state, calculate the distances to see which states are accessible. Battery SOC can't decrease more than \n",
    "        # maxDischarge or increase more than maxCharge.\n",
    "        availableStates = pd.DataFrame( {'AllStates': socStates} )\n",
    "        availableStates['distance'] = availableStates['AllStates'] - curState\n",
    "        availableStates = availableStates[(availableStates['distance'] >= -maxDischarge) & (availableStates['distance'] <= maxCharge)]\n",
    "        availableStates = availableStates['AllStates'].tolist() # Convert to list for easier looping\n",
    "\n",
    "        TransitionVectors[curState] = availableStates\n",
    "        \n",
    "    return(socStates, TransitionVectors)"
   ]
  },
  {
   "cell_type": "code",
   "execution_count": 14,
   "metadata": {},
   "outputs": [],
   "source": [
    "### Create a dataframe where columns indicate time step and rows indicate state.\n",
    "### Reduce the available states for battery ramp up at the beginning of the horizon. Max available charge at each timestep\n",
    "### is timestep * MaxCharge + minSOC\n",
    "def CreateAvailableStates( priceData, socStates ):\n",
    "    \n",
    "    # Dataframes for determining optimal decisions and storing optimal results.\n",
    "    timesteps = priceData['Time']\n",
    "\n",
    "    batteryBackwardsPass = pd.DataFrame( 0, index = socStates, columns = timesteps ) # Tracks optimal value\n",
    "    optimalPath          = pd.DataFrame( 0, index = socStates, columns = timesteps ) # Tracks optimal decision\n",
    "    \n",
    "    # Reduce available states at the beginning of the horizon to require starting SOC = min SOC\n",
    "    for curTimestep in list(batteryBackwardsPass.columns):\n",
    "    \n",
    "        curMaxSOC = min( (curTimestep * maxCharge) + minEnergy, maxEnergy )\n",
    "\n",
    "        for curSOC in socStates:\n",
    "            if curSOC > curMaxSOC:\n",
    "                batteryBackwardsPass.loc[curSOC,curTimestep] = math.nan\n",
    "                \n",
    "    return(batteryBackwardsPass,optimalPath)"
   ]
  },
  {
   "cell_type": "code",
   "execution_count": 15,
   "metadata": {},
   "outputs": [],
   "source": [
    "def GetHorizonInfo():\n",
    "    \n",
    "    HorizonInfo = {}\n",
    "    dataLength = len(priceData['Time'])\n",
    "    HorizonInfo['horizonEnd']   = dataLength - 2 # Subtract one for the last timestep in horizon, one for python indexing\n",
    "    HorizonInfo['horizonStart'] = 0 - 1 # End on timestep 0, subract one for python indexing\n",
    "    \n",
    "    return(HorizonInfo)"
   ]
  },
  {
   "cell_type": "code",
   "execution_count": 16,
   "metadata": {},
   "outputs": [],
   "source": [
    "### Iterate through each row in each column. For each entry, indicate the lowest cost way of reaching that battery state\n",
    "### Battery can only charge off of PV, so the available transitions depend on PV output\n",
    "# For each iteration for each PV probability, multiply minCost and optimalDecision by the probability to get expected value.\n",
    "# These values can be summed to get average values for each timestep.\n",
    "def BackwardsPassStochOpt( batteryBackwardsPass, optimalPath, socStates, TransitionVectors, PVProductionProbs ):\n",
    "    \n",
    "    for t in range(HorizonInfo['horizonEnd'],HorizonInfo['horizonStart'],-1):\n",
    "        \n",
    "        curRow = pvData[pvData['Time'] == t]\n",
    "\n",
    "        for curSOC in socStates:\n",
    "\n",
    "            if math.isnan(batteryBackwardsPass.loc[ curSOC, t ] ):\n",
    "                continue\n",
    "\n",
    "            # For collecting each iteration's expected minCost and optimalDecision\n",
    "            expectedMinCost         = []\n",
    "            expectedOptimalDecision = []\n",
    "\n",
    "            for pvProb in curRow.columns[curRow.columns != 'Time']:\n",
    "\n",
    "                curPVProd = PVProductionProbs[t][pvProb]\n",
    "\n",
    "                nextSOC = np.array(TransitionVectors[curSOC]) # Use numpy array for faster/easier matrix operations\n",
    "\n",
    "                curPrice = priceData[priceData['Time'] == t].iloc[0]['elec_costs']\n",
    "\n",
    "                ### Calculate the cost/value of the discharge by multiplying possible transitions by the current price\n",
    "                transitions      = nextSOC - curSOC # Potential transitions. Positive implies charge, negative implies discharge\n",
    "                transitions      = transitions[transitions <= curPVProd]\n",
    "                transitionValues = transitions * curPrice\n",
    "                # Combine the values of each transition with the cost associated with the next state.\n",
    "                totalValues      = np.array(transitionValues + batteryBackwardsPass[t+1][curSOC + transitions])\n",
    "\n",
    "                ### Get index of lowest cost/highest value transition\n",
    "                minCostIndex    = np.argmin(totalValues)\n",
    "                optimalDecision = transitions[minCostIndex]      # Get the optimal decision\n",
    "                # Get the cost of the optimal decision. Add to cost of previous timestep SOC.\n",
    "                minCost         = totalValues[minCostIndex]\n",
    "\n",
    "                # For each iteration for each PV probability, multiply minCost and optimalDecision by the probability to get expected value.\n",
    "                # These values can be summed to get average values for each timestep.\n",
    "                expectedMinCost.append(minCost*float(pvProb))\n",
    "                expectedOptimalDecision.append(optimalDecision*float(pvProb))\n",
    "\n",
    "            ### Insert optimal values into backwards pass results. Add probability-weighted values.\n",
    "            batteryBackwardsPass.loc[ curSOC, t ] = sum(expectedMinCost)\n",
    "            optimalPath.loc[ curSOC, t ]          = sum(expectedOptimalDecision)\n",
    "            \n",
    "    return( batteryBackwardsPass, optimalPath )"
   ]
  },
  {
   "cell_type": "code",
   "execution_count": 17,
   "metadata": {},
   "outputs": [],
   "source": [
    "### Run optimization\n",
    "socStates, TransitionVectors = DiscretizeSOC( minEnergy, maxEnergy, transitionInterval )\n",
    "batteryBackwardsPass,optimalPath = CreateAvailableStates( priceData, socStates )\n",
    "HorizonInfo = GetHorizonInfo()\n",
    "batteryBackwardsPass, optimalPath = BackwardsPassStochOpt( batteryBackwardsPass, optimalPath, socStates, TransitionVectors, PVProductionProbs )\n",
    "# Note that the stochastic problem, each optimal step is taken sequentially, so there is no prima facie optimal path through\n",
    "# the horizon, only the expected optimal steps (optimalPath) and marginal value (batteryBackwardsPass)"
   ]
  },
  {
   "cell_type": "code",
   "execution_count": 18,
   "metadata": {},
   "outputs": [],
   "source": [
    "### Return results"
   ]
  },
  {
   "cell_type": "code",
   "execution_count": 19,
   "metadata": {},
   "outputs": [
    {
     "data": {
      "text/html": [
       "<div>\n",
       "<style scoped>\n",
       "    .dataframe tbody tr th:only-of-type {\n",
       "        vertical-align: middle;\n",
       "    }\n",
       "\n",
       "    .dataframe tbody tr th {\n",
       "        vertical-align: top;\n",
       "    }\n",
       "\n",
       "    .dataframe thead th {\n",
       "        text-align: right;\n",
       "    }\n",
       "</style>\n",
       "<table border=\"1\" class=\"dataframe\">\n",
       "  <thead>\n",
       "    <tr style=\"text-align: right;\">\n",
       "      <th>Time</th>\n",
       "      <th>0</th>\n",
       "      <th>1</th>\n",
       "      <th>2</th>\n",
       "      <th>3</th>\n",
       "      <th>4</th>\n",
       "    </tr>\n",
       "  </thead>\n",
       "  <tbody>\n",
       "    <tr>\n",
       "      <td>1</td>\n",
       "      <td>-17849.7</td>\n",
       "      <td>-17010.0</td>\n",
       "      <td>-9900.0</td>\n",
       "      <td>0.0</td>\n",
       "      <td>0</td>\n",
       "    </tr>\n",
       "    <tr>\n",
       "      <td>2</td>\n",
       "      <td>NaN</td>\n",
       "      <td>-19810.0</td>\n",
       "      <td>-17200.0</td>\n",
       "      <td>-10000.0</td>\n",
       "      <td>0</td>\n",
       "    </tr>\n",
       "    <tr>\n",
       "      <td>3</td>\n",
       "      <td>NaN</td>\n",
       "      <td>-21170.0</td>\n",
       "      <td>-20000.0</td>\n",
       "      <td>-20000.0</td>\n",
       "      <td>0</td>\n",
       "    </tr>\n",
       "    <tr>\n",
       "      <td>4</td>\n",
       "      <td>NaN</td>\n",
       "      <td>NaN</td>\n",
       "      <td>-21000.0</td>\n",
       "      <td>-20000.0</td>\n",
       "      <td>0</td>\n",
       "    </tr>\n",
       "    <tr>\n",
       "      <td>5</td>\n",
       "      <td>NaN</td>\n",
       "      <td>NaN</td>\n",
       "      <td>-22000.0</td>\n",
       "      <td>-20000.0</td>\n",
       "      <td>0</td>\n",
       "    </tr>\n",
       "  </tbody>\n",
       "</table>\n",
       "</div>"
      ],
      "text/plain": [
       "Time        0        1        2        3  4\n",
       "1    -17849.7 -17010.0  -9900.0      0.0  0\n",
       "2         NaN -19810.0 -17200.0 -10000.0  0\n",
       "3         NaN -21170.0 -20000.0 -20000.0  0\n",
       "4         NaN      NaN -21000.0 -20000.0  0\n",
       "5         NaN      NaN -22000.0 -20000.0  0"
      ]
     },
     "execution_count": 19,
     "metadata": {},
     "output_type": "execute_result"
    }
   ],
   "source": [
    "batteryBackwardsPass"
   ]
  },
  {
   "cell_type": "code",
   "execution_count": 20,
   "metadata": {},
   "outputs": [
    {
     "data": {
      "text/html": [
       "<div>\n",
       "<style scoped>\n",
       "    .dataframe tbody tr th:only-of-type {\n",
       "        vertical-align: middle;\n",
       "    }\n",
       "\n",
       "    .dataframe tbody tr th {\n",
       "        vertical-align: top;\n",
       "    }\n",
       "\n",
       "    .dataframe thead th {\n",
       "        text-align: right;\n",
       "    }\n",
       "</style>\n",
       "<table border=\"1\" class=\"dataframe\">\n",
       "  <thead>\n",
       "    <tr style=\"text-align: right;\">\n",
       "      <th>Time</th>\n",
       "      <th>0</th>\n",
       "      <th>1</th>\n",
       "      <th>2</th>\n",
       "      <th>3</th>\n",
       "      <th>4</th>\n",
       "    </tr>\n",
       "  </thead>\n",
       "  <tbody>\n",
       "    <tr>\n",
       "      <td>1</td>\n",
       "      <td>0.3</td>\n",
       "      <td>1.3</td>\n",
       "      <td>1.1</td>\n",
       "      <td>0.0</td>\n",
       "      <td>0</td>\n",
       "    </tr>\n",
       "    <tr>\n",
       "      <td>2</td>\n",
       "      <td>0.0</td>\n",
       "      <td>1.3</td>\n",
       "      <td>0.8</td>\n",
       "      <td>-1.0</td>\n",
       "      <td>0</td>\n",
       "    </tr>\n",
       "    <tr>\n",
       "      <td>3</td>\n",
       "      <td>0.0</td>\n",
       "      <td>1.3</td>\n",
       "      <td>0.0</td>\n",
       "      <td>-2.0</td>\n",
       "      <td>0</td>\n",
       "    </tr>\n",
       "    <tr>\n",
       "      <td>4</td>\n",
       "      <td>0.0</td>\n",
       "      <td>0.0</td>\n",
       "      <td>-1.0</td>\n",
       "      <td>-2.0</td>\n",
       "      <td>0</td>\n",
       "    </tr>\n",
       "    <tr>\n",
       "      <td>5</td>\n",
       "      <td>0.0</td>\n",
       "      <td>0.0</td>\n",
       "      <td>-2.0</td>\n",
       "      <td>-2.0</td>\n",
       "      <td>0</td>\n",
       "    </tr>\n",
       "  </tbody>\n",
       "</table>\n",
       "</div>"
      ],
      "text/plain": [
       "Time    0    1    2    3  4\n",
       "1     0.3  1.3  1.1  0.0  0\n",
       "2     0.0  1.3  0.8 -1.0  0\n",
       "3     0.0  1.3  0.0 -2.0  0\n",
       "4     0.0  0.0 -1.0 -2.0  0\n",
       "5     0.0  0.0 -2.0 -2.0  0"
      ]
     },
     "execution_count": 20,
     "metadata": {},
     "output_type": "execute_result"
    }
   ],
   "source": [
    "optimalPath"
   ]
  },
  {
   "cell_type": "code",
   "execution_count": null,
   "metadata": {},
   "outputs": [],
   "source": []
  }
 ],
 "metadata": {
  "kernelspec": {
   "display_name": "Python 3",
   "language": "python",
   "name": "python3"
  },
  "language_info": {
   "codemirror_mode": {
    "name": "ipython",
    "version": 3
   },
   "file_extension": ".py",
   "mimetype": "text/x-python",
   "name": "python",
   "nbconvert_exporter": "python",
   "pygments_lexer": "ipython3",
   "version": "3.7.4"
  }
 },
 "nbformat": 4,
 "nbformat_minor": 2
}
